{
 "cells": [
  {
   "cell_type": "code",
   "execution_count": 16,
   "metadata": {},
   "outputs": [
    {
     "name": "stdout",
     "output_type": "stream",
     "text": [
      "name: xyf\n",
      "age:  27\n"
     ]
    }
   ],
   "source": [
    "# 类，是面向对象编程的一个很重要的概念\n",
    "# 类，你可以把他看成一个抽象的东西，比如一个人，他有名字、身高、年龄,我们称这些是这个人的属性（attribute）\n",
    "# 一个人可以跑，可以跳，可以阅读，我们称之为这个人的方法（method）\n",
    "\n",
    "# 新建一个类（模板）\n",
    "class Person(): # 类变量首字母要大写\n",
    "    \n",
    "    def __init__(self, name, age): # init是每个类内部都带有的一个方法，这个方法会在实例化后自动的执行，实例化后面讲\n",
    "        self.name = name\n",
    "        self.age = age\n",
    "        print(f\"name: {self.name}\\n\"  # 直接回车换行，后面没逗号\n",
    "              f\"age:  {self.age}\")\n",
    "    \n",
    "    def read(self):\n",
    "        print(f\"{self.name}正在读书！\")\n",
    "        \n",
    "yf = Person(\"xyf\", 27) # 这个叫实例，这个过程叫实例化\n",
    "\n",
    "# __init__前后有两个下划线，表示内部私有方法\n",
    "# 私有的意思： 比如说一个人他有一些method是开放给其他人的，例如读书read，外面的程序可以调用\n",
    "# 但是，有些复杂的method, 是通过多个函数相互调用实现的，你不想对外展示这些细节，例如吃饭eat这个函数，可能包含牙齿咀嚼/吞咽等method，\n",
    "# 就可以把这些函数定义为私有的\n",
    "# 这个其实是一种利于管理的抽象方法，即API（接口），只开放有限的功能给用户User\n",
    "# 插播一句： python设计之初的理念是一切透明，所以其实你想强行访问私有变量完全没有问题，只是看你要做什么\n",
    "\n",
    "# self是什么意思?\n",
    "# self在模板代码里面，代表着这个类的本身\n",
    "# method可以任意使用self.xxx这些属性"
   ]
  },
  {
   "cell_type": "code",
   "execution_count": 17,
   "metadata": {},
   "outputs": [
    {
     "name": "stdout",
     "output_type": "stream",
     "text": [
      "xyf正在读书！\n"
     ]
    }
   ],
   "source": [
    "# 用户可以自己添加方法\n",
    "yf.read()\n"
   ]
  },
  {
   "cell_type": "code",
   "execution_count": 26,
   "metadata": {},
   "outputs": [
    {
     "name": "stdout",
     "output_type": "stream",
     "text": [
      "['__abs__', '__add__', '__and__', '__bool__', '__ceil__', '__class__', '__delattr__', '__dir__', '__divmod__', '__doc__', '__eq__', '__float__', '__floor__', '__floordiv__', '__format__', '__ge__', '__getattribute__', '__getnewargs__', '__gt__', '__hash__', '__index__', '__init__', '__init_subclass__', '__int__', '__invert__', '__le__', '__lshift__', '__lt__', '__mod__', '__mul__', '__ne__', '__neg__', '__new__', '__or__', '__pos__', '__pow__', '__radd__', '__rand__', '__rdivmod__', '__reduce__', '__reduce_ex__', '__repr__', '__rfloordiv__', '__rlshift__', '__rmod__', '__rmul__', '__ror__', '__round__', '__rpow__', '__rrshift__', '__rshift__', '__rsub__', '__rtruediv__', '__rxor__', '__setattr__', '__sizeof__', '__str__', '__sub__', '__subclasshook__', '__truediv__', '__trunc__', '__xor__', 'bit_length', 'conjugate', 'denominator', 'from_bytes', 'imag', 'numerator', 'real', 'to_bytes']\n"
     ]
    },
    {
     "data": {
      "text/plain": [
       "'-10.0000000000'"
      ]
     },
     "execution_count": 26,
     "metadata": {},
     "output_type": "execute_result"
    }
   ],
   "source": [
    "# 引申到前文，我为什么说python的数据类型都是类\n",
    "\n",
    "# 头脑风暴：int这个类应该有什么属性？什么method?\n",
    "# 1: value 2: 加减乘除 3: 一个整数可以表示成分子分母，可以用来做精确解\n",
    "a = -10\n",
    "print(dir(a)) # dir会将这个实例的所有method/attribute列举出来\n",
    "# __add__方法，其实就是 a + 1 所调用的\n",
    "a.__add__(1) # 等价于 a + 1\n",
    "a.__abs__() # 求绝对值，等价于abs(a)\n",
    "a.__float__()\n",
    "f\"{a:.10f}\" # 冒号后面表示怎么显示这个数，.10f意思是小数点后10位的float"
   ]
  }
 ],
 "metadata": {
  "kernelspec": {
   "display_name": "Python 3",
   "language": "python",
   "name": "python3"
  },
  "language_info": {
   "codemirror_mode": {
    "name": "ipython",
    "version": 3
   },
   "file_extension": ".py",
   "mimetype": "text/x-python",
   "name": "python",
   "nbconvert_exporter": "python",
   "pygments_lexer": "ipython3",
   "version": "3.6.4"
  }
 },
 "nbformat": 4,
 "nbformat_minor": 2
}
