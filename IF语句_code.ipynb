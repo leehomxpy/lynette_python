{
 "cells": [
  {
   "cell_type": "code",
   "execution_count": 2,
   "metadata": {},
   "outputs": [
    {
     "name": "stdout",
     "output_type": "stream",
     "text": [
      "a的值是4\n"
     ]
    }
   ],
   "source": [
    "# if语句，简而言之就是\n",
    "# if xxx(True):\n",
    "#     执行动作1\n",
    "# elif xx(True):\n",
    "#     执行动作2\n",
    "# else：\n",
    "#     执行动作3\n",
    "\n",
    "# 普通格式\n",
    "a = 4\n",
    "if a == 3:\n",
    "    print(\"a等于3\")\n",
    "else:\n",
    "    print(f\"a的值是{a}\") # f-string的打印方法，后面讲，是一种pythonic的方法"
   ]
  },
  {
   "cell_type": "code",
   "execution_count": 3,
   "metadata": {},
   "outputs": [
    {
     "name": "stdout",
     "output_type": "stream",
     "text": [
      "The Zen of Python, by Tim Peters\n",
      "\n",
      "Beautiful is better than ugly.\n",
      "Explicit is better than implicit.\n",
      "Simple is better than complex.\n",
      "Complex is better than complicated.\n",
      "Flat is better than nested.\n",
      "Sparse is better than dense.\n",
      "Readability counts.\n",
      "Special cases aren't special enough to break the rules.\n",
      "Although practicality beats purity.\n",
      "Errors should never pass silently.\n",
      "Unless explicitly silenced.\n",
      "In the face of ambiguity, refuse the temptation to guess.\n",
      "There should be one-- and preferably only one --obvious way to do it.\n",
      "Although that way may not be obvious at first unless you're Dutch.\n",
      "Now is better than never.\n",
      "Although never is often better than *right* now.\n",
      "If the implementation is hard to explain, it's a bad idea.\n",
      "If the implementation is easy to explain, it may be a good idea.\n",
      "Namespaces are one honking great idea -- let's do more of those!\n"
     ]
    }
   ],
   "source": [
    "import this # python创始人的理念"
   ]
  },
  {
   "cell_type": "code",
   "execution_count": 5,
   "metadata": {},
   "outputs": [
    {
     "name": "stdout",
     "output_type": "stream",
     "text": [
      "a要么是3要么是4\n"
     ]
    }
   ],
   "source": [
    "# 多条件判断\n",
    "# and or not\n",
    "a = 3\n",
    "if a == 3 or a == 4:\n",
    "    print(\"a要么是3要么是4\")\n",
    "else:\n",
    "    pass # 什么都不执行\n",
    "\n",
    "# 插播一句： pass 一般用来预留代码区域，或者写最开始框架的时候\n",
    "# 一般来说，大型项目，刚开始并不是直接写函数，而是规划框架，\n",
    "# 规划框架过程中，就要写上你计划写的代码，然后里面可以填pass。规划好了之后满满填入细节"
   ]
  },
  {
   "cell_type": "code",
   "execution_count": null,
   "metadata": {},
   "outputs": [],
   "source": [
    "# 大于号 > 大于等于号 >="
   ]
  },
  {
   "cell_type": "code",
   "execution_count": null,
   "metadata": {},
   "outputs": [],
   "source": [
    "# 当多个条件判断用and连接，把最可能是False的子条件放在前面，节省效率\n",
    "# 同样的，or链接的时候，把最可能是True放前面"
   ]
  },
  {
   "cell_type": "code",
   "execution_count": 9,
   "metadata": {},
   "outputs": [
    {
     "name": "stdout",
     "output_type": "stream",
     "text": [
      "a是整数\n",
      "a是None\n"
     ]
    }
   ],
   "source": [
    "# 一些特殊的数据类型的判断条件\n",
    "\n",
    "# 判断一个数的数据类型\n",
    "a = 3 # 浮点数float\n",
    "if type(a) == int:\n",
    "    print(\"a是整数\")\n",
    "elif type(a) == float:\n",
    "    print(\"a是浮点数\")\n",
    "else:\n",
    "    print(f\"a的数据类型是{type(a)}\")\n",
    "    \n",
    "# 插播一句：为什么a=None的时候打印出来是<class None>\n",
    "# 因为python里面，不管是整数还是浮点数还是None, 他们都是class\n",
    "    \n",
    "    \n",
    "# 判断是不是None\n",
    "a = None\n",
    "if a is None: # a == None\n",
    "    print(\"a是None\")\n",
    "    "
   ]
  },
  {
   "cell_type": "code",
   "execution_count": 11,
   "metadata": {},
   "outputs": [
    {
     "name": "stdout",
     "output_type": "stream",
     "text": [
      "1在b_list中\n",
      "10在c_dict中\n"
     ]
    }
   ],
   "source": [
    "# 判断某数是否在某个列表里、字典里\n",
    "a_1, a_2 = 1, 10\n",
    "b_list = [1, 2, 3, 4]\n",
    "c_dict = {10: \"10\", 2: \"2\"}\n",
    "for a in [a_1, a_2]:\n",
    "    if a in b_list:\n",
    "        print(f\"{a}在b_list中\")\n",
    "    \n",
    "    if a in c_dict: # 判断的是key(键值)，不是value\n",
    "        print(f\"{a}在c_dict中\")"
   ]
  },
  {
   "cell_type": "code",
   "execution_count": 14,
   "metadata": {},
   "outputs": [
    {
     "name": "stdout",
     "output_type": "stream",
     "text": [
      "a是空的\n"
     ]
    }
   ],
   "source": [
    "# 判断一个字典、列表是不是空的\n",
    "a = {} # []\n",
    "if not a: # python会把空的等价成False;有些新手会这么写if len(a) == 0: 太繁琐\n",
    "    print(\"a是空的\")"
   ]
  },
  {
   "cell_type": "code",
   "execution_count": null,
   "metadata": {},
   "outputs": [],
   "source": [
    "# 拿捏不准要判断的条件是True/False，先去console/terminal里面敲一敲"
   ]
  }
 ],
 "metadata": {
  "kernelspec": {
   "display_name": "Python 3",
   "language": "python",
   "name": "python3"
  },
  "language_info": {
   "codemirror_mode": {
    "name": "ipython",
    "version": 3
   },
   "file_extension": ".py",
   "mimetype": "text/x-python",
   "name": "python",
   "nbconvert_exporter": "python",
   "pygments_lexer": "ipython3",
   "version": "3.6.4"
  }
 },
 "nbformat": 4,
 "nbformat_minor": 2
}
