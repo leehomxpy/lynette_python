{
 "cells": [
  {
   "cell_type": "code",
   "execution_count": 10,
   "metadata": {},
   "outputs": [],
   "source": [
    "# 字典不同于list, list想要找一个特定的值，就要遍历\n",
    "# 字典的键值都被哈希化了，所以查找起来特别快，适用于快速索引的数据\n",
    "\n",
    "# 字典新建\n",
    "a = {}\n",
    "# 新建字典a， 并且添加\"Jan\" 为 90\n",
    "a = {\"Jan\": 90, \"Tom\": 100, \"Oct\": 89}"
   ]
  },
  {
   "cell_type": "code",
   "execution_count": 11,
   "metadata": {},
   "outputs": [
    {
     "data": {
      "text/plain": [
       "100"
      ]
     },
     "execution_count": 11,
     "metadata": {},
     "output_type": "execute_result"
    }
   ],
   "source": [
    "# 键值的索引\n",
    "a[\"Tom\"]"
   ]
  },
  {
   "cell_type": "code",
   "execution_count": 12,
   "metadata": {},
   "outputs": [
    {
     "data": {
      "text/plain": [
       "{'Jan': 90, 'Oct': 89, 'Tom': 87}"
      ]
     },
     "execution_count": 12,
     "metadata": {},
     "output_type": "execute_result"
    }
   ],
   "source": [
    "# 修改Tom分数为87\n",
    "a[\"Tom\"] = 87\n",
    "a"
   ]
  },
  {
   "cell_type": "code",
   "execution_count": 13,
   "metadata": {},
   "outputs": [
    {
     "data": {
      "text/plain": [
       "{'Jan': [56, 65], 'Oct': 89, 'Tom': 87}"
      ]
     },
     "execution_count": 13,
     "metadata": {},
     "output_type": "execute_result"
    }
   ],
   "source": [
    "# 修改Jan为两个分数， 56， 65\n",
    "a[\"Jan\"] = [56, 65]\n",
    "a"
   ]
  },
  {
   "cell_type": "code",
   "execution_count": 14,
   "metadata": {},
   "outputs": [],
   "source": [
    "# 插一句， python 是一种动态语言，动态语言的意思是变量在生成的时候不用指定它的类型，\n",
    "# 例如在C语言中， int a = 1; 那么a只能是int\n",
    "# 所以python非常的灵活\n",
    "\n",
    "# 那么这种灵活是怎么实现的？\n",
    "# 其实计算机中，每块内存都有地址，\n",
    "# python中 当执行a = 1,  计算机先在内存中申请32bit(不一定是32bit)的空间，填充1。再申请64bit的空间。 然后将这个1的地址填充到a的空间里面。\n",
    "# 如果要访问a，计算机有一张变量名索引表，根据这个表找到a的地址，然后读取a的内容，在找a内容里面那个地址，然后就找到了1\n",
    "\n",
    "# 所以，a之所以可以被重复的赋值成list/class/string，本质上就是因为a存储的就是一个地址，而地址的长度是不会变化的"
   ]
  },
  {
   "cell_type": "code",
   "execution_count": 15,
   "metadata": {},
   "outputs": [
    {
     "data": {
      "text/plain": [
       "{'Jan': [56, 65], 'Tom': 87}"
      ]
     },
     "execution_count": 15,
     "metadata": {},
     "output_type": "execute_result"
    }
   ],
   "source": [
    "# 删除键值对\n",
    "del a[\"Oct\"]\n",
    "a"
   ]
  },
  {
   "cell_type": "code",
   "execution_count": 16,
   "metadata": {},
   "outputs": [
    {
     "data": {
      "text/plain": [
       "{'Jan': [65], 'Tom': 87}"
      ]
     },
     "execution_count": 16,
     "metadata": {},
     "output_type": "execute_result"
    }
   ],
   "source": [
    "# 删 jan里面的56\n",
    "del a[\"Jan\"][0] # 不加括号也可以 等价于 ([56, 65])[0]\n",
    "a"
   ]
  },
  {
   "cell_type": "code",
   "execution_count": 21,
   "metadata": {},
   "outputs": [
    {
     "name": "stdout",
     "output_type": "stream",
     "text": [
      "('Jan', [65])\n",
      "Jan\n",
      "[65]\n",
      "('Tom', 87)\n",
      "Tom\n",
      "87\n"
     ]
    }
   ],
   "source": [
    "# 遍历字典中的所有值\n",
    "for item in a.items():\n",
    "    print(item)\n",
    "    print(item[0])\n",
    "    print(item[1])"
   ]
  }
 ],
 "metadata": {
  "kernelspec": {
   "display_name": "Python 3",
   "language": "python",
   "name": "python3"
  },
  "language_info": {
   "codemirror_mode": {
    "name": "ipython",
    "version": 3
   },
   "file_extension": ".py",
   "mimetype": "text/x-python",
   "name": "python",
   "nbconvert_exporter": "python",
   "pygments_lexer": "ipython3",
   "version": "3.6.4"
  }
 },
 "nbformat": 4,
 "nbformat_minor": 2
}
